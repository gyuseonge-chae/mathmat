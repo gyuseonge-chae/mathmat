{
 "cells": [
  {
   "cell_type": "code",
   "execution_count": 1,
   "metadata": {},
   "outputs": [],
   "source": [
    "import turtle\n",
    "import random\n",
    "import math\n",
    "def montepi(n_darts):\n",
    "    T = turtle.Turtle()\n",
    "    wn = turtle.Screen()\n",
    "    wn.setworldcoordinates(-2,-2,2,2)\n",
    "    \n",
    "    #x축 그리기\n",
    "    T.up()\n",
    "    T.goto(-1,0)\n",
    "    T.down()\n",
    "    T.goto(1,0)\n",
    "    \n",
    "    #y축 그리기\n",
    "    T.up()\n",
    "    T.goto(0, 1)\n",
    "    T.down()\n",
    "    T.goto(0,-1)\n",
    "    T.up()\n",
    "    \n",
    "    #몬테카를로 규칙 설정\n",
    "    inside = 0\n",
    "    for i in range(n_darts):\n",
    "        x = random.random()\n",
    "        y = random.random()\n",
    "        T.goto(x, y)\n",
    "        distance_from_origin = math.sqrt(x*x + y*y)\n",
    "        if distance_from_origin < 1.0 :\n",
    "            inside = inside + 1\n",
    "            T.color('blue')\n",
    "        else :\n",
    "            T.color('red')\n",
    "    #점 찍기\n",
    "        T.dot()\n",
    "    approx_pi = inside / n_darts * 4.0\n",
    "    wn.exitonclick()\n",
    "    return approx_pi"
   ]
  },
  {
   "cell_type": "code",
   "execution_count": null,
   "metadata": {},
   "outputs": [],
   "source": [
    "montepi(100)"
   ]
  },
  {
   "cell_type": "code",
   "execution_count": null,
   "metadata": {},
   "outputs": [],
   "source": []
  },
  {
   "cell_type": "code",
   "execution_count": null,
   "metadata": {},
   "outputs": [],
   "source": []
  }
 ],
 "metadata": {
  "kernelspec": {
   "display_name": "Python 3",
   "language": "python",
   "name": "python3"
  },
  "language_info": {
   "codemirror_mode": {
    "name": "ipython",
    "version": 3
   },
   "file_extension": ".py",
   "mimetype": "text/x-python",
   "name": "python",
   "nbconvert_exporter": "python",
   "pygments_lexer": "ipython3",
   "version": "3.8.3"
  }
 },
 "nbformat": 4,
 "nbformat_minor": 4
}
