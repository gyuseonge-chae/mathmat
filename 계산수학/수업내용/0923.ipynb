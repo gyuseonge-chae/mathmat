{
 "cells": [
  {
   "cell_type": "code",
   "execution_count": 3,
   "metadata": {},
   "outputs": [],
   "source": [
    "def leibniz(terms):\n",
    "    acc = 0.0\n",
    "    분모 = 1.0\n",
    "    분자 = 4.0\n",
    "    for aterm in range (terms):\n",
    "        항 = (-1) ** aterm * 분자 / 분모\n",
    "        acc = acc + 항\n",
    "        분모 = 분모 + 2\n",
    "    return acc"
   ]
  },
  {
   "cell_type": "code",
   "execution_count": 7,
   "metadata": {},
   "outputs": [
    {
     "data": {
      "text/plain": [
       "3.140592653839794"
      ]
     },
     "execution_count": 7,
     "metadata": {},
     "output_type": "execute_result"
    }
   ],
   "source": [
    "leibniz(1000)"
   ]
  },
  {
   "cell_type": "code",
   "execution_count": 11,
   "metadata": {},
   "outputs": [
    {
     "name": "stdout",
     "output_type": "stream",
     "text": [
      "8 0.1245208365179753\n",
      "16 0.062439259392365276\n",
      "24 0.041648621215985226\n",
      "32 0.031242379891105898\n",
      "40 0.024996096795959932\n",
      "48 0.020831073996803617\n",
      "56 0.017855719863522967\n",
      "64 0.015624046616505183\n",
      "72 0.013888219254345913\n",
      "80 0.01249951181407205\n",
      "88 0.01136326956989775\n",
      "96 0.010416384134811274\n"
     ]
    }
   ],
   "source": [
    "import math\n",
    "for i in range (8,100 ,8):\n",
    "    err = abs(math.pi-leibniz(i))\n",
    "    print(i, err)\n",
    "    #항2배 될수록 에러는 역수의1제곱만큼 줄어듦\n",
    "    #아르키메데스는 2배마다 역수의 제곱만큼 에라가 줄어듦\n"
   ]
  },
  {
   "cell_type": "code",
   "execution_count": 12,
   "metadata": {},
   "outputs": [
    {
     "data": {
      "text/plain": [
       "3.1415925535897915"
      ]
     },
     "execution_count": 12,
     "metadata": {},
     "output_type": "execute_result"
    }
   ],
   "source": [
    "leibniz(10000000)"
   ]
  },
  {
   "cell_type": "code",
   "execution_count": 13,
   "metadata": {},
   "outputs": [
    {
     "data": {
      "text/plain": [
       "1.5"
      ]
     },
     "execution_count": 13,
     "metadata": {},
     "output_type": "execute_result"
    }
   ],
   "source": [
    "abs(-1.5)"
   ]
  },
  {
   "cell_type": "code",
   "execution_count": null,
   "metadata": {},
   "outputs": [],
   "source": []
  }
 ],
 "metadata": {
  "kernelspec": {
   "display_name": "Python 3",
   "language": "python",
   "name": "python3"
  },
  "language_info": {
   "codemirror_mode": {
    "name": "ipython",
    "version": 3
   },
   "file_extension": ".py",
   "mimetype": "text/x-python",
   "name": "python",
   "nbconvert_exporter": "python",
   "pygments_lexer": "ipython3",
   "version": "3.8.3"
  }
 },
 "nbformat": 4,
 "nbformat_minor": 4
}
