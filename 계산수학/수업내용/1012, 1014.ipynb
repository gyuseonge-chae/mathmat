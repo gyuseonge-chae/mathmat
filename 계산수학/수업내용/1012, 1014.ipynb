{
 "cells": [
  {
   "cell_type": "code",
   "execution_count": 2,
   "metadata": {},
   "outputs": [],
   "source": [
    "def LetterToIndex(achar):\n",
    "    alphabet = 'abcdefghijklmnopqrstuvwxyz '\n",
    "    num = alphabet.find(achar)\n",
    "    if num == -1 :\n",
    "        print(\"입력인자가 'a~z'또는 공백의 범위를 벗어남\")\n",
    "        \n",
    "    else :\n",
    "        return num"
   ]
  },
  {
   "cell_type": "code",
   "execution_count": 4,
   "metadata": {},
   "outputs": [
    {
     "data": {
      "text/plain": [
       "0"
      ]
     },
     "execution_count": 4,
     "metadata": {},
     "output_type": "execute_result"
    }
   ],
   "source": [
    "LetterToIndex('a')"
   ]
  },
  {
   "cell_type": "code",
   "execution_count": 6,
   "metadata": {},
   "outputs": [
    {
     "name": "stdout",
     "output_type": "stream",
     "text": [
      "입력인자가 'a~z'또는 공백의 범위를 벗어남\n"
     ]
    }
   ],
   "source": [
    "LetterToIndex('A')"
   ]
  },
  {
   "cell_type": "code",
   "execution_count": 18,
   "metadata": {},
   "outputs": [],
   "source": [
    "def scramble2Encrypt(text) :\n",
    "    n = len(text)\n",
    "    evenChar = ''\n",
    "    oddChar = ''\n",
    "    for i in range(n):\n",
    "        achar = text[i-1]\n",
    "        if i % 2 == 0:\n",
    "            evenChar = evenChar + achar\n",
    "        else : \n",
    "            oddChar = oddChar + achar\n",
    "    cipherText = oddChar + evenChar\n",
    "    return cipherText"
   ]
  },
  {
   "cell_type": "code",
   "execution_count": 21,
   "metadata": {},
   "outputs": [],
   "source": [
    "text = 'Thine wrath be done.'"
   ]
  },
  {
   "cell_type": "code",
   "execution_count": 22,
   "metadata": {},
   "outputs": [
    {
     "data": {
      "text/plain": [
       "'Tiewahb oe.hn rt edn'"
      ]
     },
     "execution_count": 22,
     "metadata": {},
     "output_type": "execute_result"
    }
   ],
   "source": [
    "scramble2Encrypt(text)"
   ]
  },
  {
   "cell_type": "code",
   "execution_count": 29,
   "metadata": {},
   "outputs": [],
   "source": [
    "def scramble2Encrypt_2(text) :\n",
    "    charCount = 0\n",
    "    evenChar = ''\n",
    "    oddChar = ''\n",
    "    for achar in text:\n",
    "        if charCount % 2 == 0 :\n",
    "            evenChar = evenChar + achar\n",
    "        else : \n",
    "            oddChar = oddChar + achar\n",
    "        charCount = charCount + 1\n",
    "    cipherText = oddChar + evenChar\n",
    "    return cipherText"
   ]
  },
  {
   "cell_type": "code",
   "execution_count": 30,
   "metadata": {},
   "outputs": [],
   "source": [
    "text = 'dice'"
   ]
  },
  {
   "cell_type": "code",
   "execution_count": 31,
   "metadata": {},
   "outputs": [
    {
     "data": {
      "text/plain": [
       "'iedc'"
      ]
     },
     "execution_count": 31,
     "metadata": {},
     "output_type": "execute_result"
    }
   ],
   "source": [
    "scramble2Encrypt_2(text)"
   ]
  },
  {
   "cell_type": "code",
   "execution_count": 37,
   "metadata": {},
   "outputs": [
    {
     "name": "stdout",
     "output_type": "stream",
     "text": [
      "d\n",
      "i\n",
      "c\n",
      "e\n"
     ]
    }
   ],
   "source": [
    "for i in \"dice\":\n",
    "    print (i)"
   ]
  },
  {
   "cell_type": "code",
   "execution_count": 66,
   "metadata": {},
   "outputs": [],
   "source": [
    "def scramble2decrypt(cipherText) :\n",
    "    n = len(cipherText)\n",
    "    half_n = n//2\n",
    "    oddChar = cipherText[0:half_n]\n",
    "    evenChar = cipherText[half_n:n]\n",
    "    plainText = ''       \n",
    "    for i in range(half_n):\n",
    "        plainText = plainText + evenChar[i]\n",
    "        plainText = plainText + oddChar[i]\n",
    "    if n % 2 != 0:\n",
    "        plainText = plainText + evenChar[-1]\n",
    "    return plainText"
   ]
  },
  {
   "cell_type": "code",
   "execution_count": 52,
   "metadata": {},
   "outputs": [],
   "source": [
    "text = \"abcdef\""
   ]
  },
  {
   "cell_type": "code",
   "execution_count": 53,
   "metadata": {},
   "outputs": [
    {
     "data": {
      "text/plain": [
       "'acefbd'"
      ]
     },
     "execution_count": 53,
     "metadata": {},
     "output_type": "execute_result"
    }
   ],
   "source": [
    "scramble2Encrypt(text)"
   ]
  },
  {
   "cell_type": "code",
   "execution_count": 56,
   "metadata": {},
   "outputs": [
    {
     "data": {
      "text/plain": [
       "'badc'"
      ]
     },
     "execution_count": 56,
     "metadata": {},
     "output_type": "execute_result"
    }
   ],
   "source": [
    "scramble2decrypt(\"acbd\")"
   ]
  },
  {
   "cell_type": "code",
   "execution_count": 68,
   "metadata": {},
   "outputs": [
    {
     "data": {
      "text/plain": [
       "'I love python'"
      ]
     },
     "execution_count": 68,
     "metadata": {},
     "output_type": "execute_result"
    }
   ],
   "source": [
    "scramble2decrypt(scramble2Encrypt_2(\"I love python\"))"
   ]
  },
  {
   "cell_type": "code",
   "execution_count": 69,
   "metadata": {},
   "outputs": [
    {
     "data": {
      "text/plain": [
       "4"
      ]
     },
     "execution_count": 69,
     "metadata": {},
     "output_type": "execute_result"
    }
   ],
   "source": [
    "int(4.2)"
   ]
  },
  {
   "cell_type": "code",
   "execution_count": 70,
   "metadata": {},
   "outputs": [
    {
     "data": {
      "text/plain": [
       "4"
      ]
     },
     "execution_count": 70,
     "metadata": {},
     "output_type": "execute_result"
    }
   ],
   "source": [
    "int(4.999)"
   ]
  },
  {
   "cell_type": "code",
   "execution_count": 71,
   "metadata": {},
   "outputs": [
    {
     "name": "stdout",
     "output_type": "stream",
     "text": [
      "문자열을 입력하세요:gracias!\n"
     ]
    }
   ],
   "source": [
    "msg = input(\"문자열을 입력하세요:\")"
   ]
  },
  {
   "cell_type": "code",
   "execution_count": 72,
   "metadata": {},
   "outputs": [
    {
     "data": {
      "text/plain": [
       "'gracias!'"
      ]
     },
     "execution_count": 72,
     "metadata": {},
     "output_type": "execute_result"
    }
   ],
   "source": [
    "msg"
   ]
  },
  {
   "cell_type": "code",
   "execution_count": 73,
   "metadata": {},
   "outputs": [
    {
     "data": {
      "text/plain": [
       "8"
      ]
     },
     "execution_count": 73,
     "metadata": {},
     "output_type": "execute_result"
    }
   ],
   "source": [
    "len(msg)"
   ]
  },
  {
   "cell_type": "code",
   "execution_count": 76,
   "metadata": {},
   "outputs": [],
   "source": [
    "def encryptMsg():\n",
    "    msg = input('암호화할 문자를 입력하시오: ')\n",
    "    cipherText = scramble2Encrypt_2(msg)\n",
    "    print('암호문은 다음과 같습니다:', cipherText)"
   ]
  },
  {
   "cell_type": "code",
   "execution_count": 77,
   "metadata": {},
   "outputs": [
    {
     "name": "stdout",
     "output_type": "stream",
     "text": [
      "암호화할 문자를 입력하시오: gracias!\n",
      "암호문은 다음과 같습니다: rca!gais\n"
     ]
    }
   ],
   "source": [
    "encryptMsg()"
   ]
  },
  {
   "cell_type": "code",
   "execution_count": null,
   "metadata": {},
   "outputs": [],
   "source": []
  }
 ],
 "metadata": {
  "kernelspec": {
   "display_name": "Python 3",
   "language": "python",
   "name": "python3"
  },
  "language_info": {
   "codemirror_mode": {
    "name": "ipython",
    "version": 3
   },
   "file_extension": ".py",
   "mimetype": "text/x-python",
   "name": "python",
   "nbconvert_exporter": "python",
   "pygments_lexer": "ipython3",
   "version": "3.8.3"
  }
 },
 "nbformat": 4,
 "nbformat_minor": 4
}
