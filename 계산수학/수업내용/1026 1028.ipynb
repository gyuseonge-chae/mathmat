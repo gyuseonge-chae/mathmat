{
 "cells": [
  {
   "cell_type": "code",
   "execution_count": 7,
   "metadata": {},
   "outputs": [],
   "source": [
    "def vigenere_Index(keyLetter, plainLetter):\n",
    "    alphabet = 'abcdefghijklmnopqrstuvwxyz'\n",
    "    keyIndex = alphabet.find(keyLetter)\n",
    "    plainIndex = alphabet.find(plainLetter)\n",
    "    cipherIndex = (keyIndex + plainIndex) % 26\n",
    "    return alphabet[cipherIndex]"
   ]
  },
  {
   "cell_type": "code",
   "execution_count": 8,
   "metadata": {},
   "outputs": [],
   "source": [
    "def vigenere_Encrypt():\n",
    "    key = input('Enter the key : ') #DAVINCI\n",
    "    plainText = input('암호화 할 문장 : ') # the eagle has landed\n",
    "    cipherText = ''\n",
    "    n_key = len(key)\n",
    "    n_plain = len(plainText)\n",
    "    \n",
    "    for i in range (n_plain) :\n",
    "        keyLetter = key[i % n_key]\n",
    "        plainLetter = plainText[i]\n",
    "        if plainLetter == ' ':\n",
    "            cipherLetter = ' '\n",
    "        else:   \n",
    "            cipherLetter = vigenere_Index(keyLetter,plainLetter)\n",
    "        cipherText = cipherText + cipherLetter\n",
    "    return cipherText"
   ]
  },
  {
   "cell_type": "code",
   "execution_count": 9,
   "metadata": {},
   "outputs": [
    {
     "name": "stdout",
     "output_type": "stream",
     "text": [
      "Enter the key : davinci\n",
      "암호화 할 문장 : the eagle has landed\n"
     ]
    },
    {
     "data": {
      "text/plain": [
       "'whz rcooe pnu oailrf'"
      ]
     },
     "execution_count": 9,
     "metadata": {},
     "output_type": "execute_result"
    }
   ],
   "source": [
    "vigenere_Encrypt()"
   ]
  },
  {
   "cell_type": "code",
   "execution_count": null,
   "metadata": {},
   "outputs": [],
   "source": []
  },
  {
   "cell_type": "markdown",
   "metadata": {},
   "source": [
    "# Introduction the python collections"
   ]
  },
  {
   "cell_type": "code",
   "execution_count": null,
   "metadata": {},
   "outputs": [],
   "source": []
  },
  {
   "cell_type": "code",
   "execution_count": null,
   "metadata": {},
   "outputs": [],
   "source": []
  },
  {
   "cell_type": "code",
   "execution_count": null,
   "metadata": {},
   "outputs": [],
   "source": []
  },
  {
   "cell_type": "markdown",
   "metadata": {},
   "source": [
    "# 1116"
   ]
  },
  {
   "cell_type": "code",
   "execution_count": 1,
   "metadata": {},
   "outputs": [],
   "source": [
    "summ = 0\n",
    "i = 0\n",
    "while (i <= 10) :\n",
    "    i = i + 1\n",
    "    summ = summ + i\n",
    "    "
   ]
  },
  {
   "cell_type": "code",
   "execution_count": 5,
   "metadata": {},
   "outputs": [],
   "source": [
    "import urllib.request\n",
    "def counthead(url):\n",
    "    page = urllib.request.urlopen(url)\n",
    "    line = page.readline().decode('utf-8')\n",
    "    while '<head>' not in line :\n",
    "        line = page.readline().decode('utf-8')\n",
    "    #<head>..... 1\n",
    "    #.....       2\n",
    "    #.....       \n",
    "    #</head>.... n\n",
    "    n_line = 1\n",
    "    while '</head>' not in line :\n",
    "        line = page.readline().decode('utf-8')\n",
    "        n_line = n_line = 1\n",
    "        print(line)\n",
    "    print(n_line)"
   ]
  },
  {
   "cell_type": "code",
   "execution_count": 6,
   "metadata": {},
   "outputs": [
    {
     "ename": "SyntaxError",
     "evalue": "invalid syntax (<ipython-input-6-3358d9bb6538>, line 1)",
     "output_type": "error",
     "traceback": [
      "\u001b[1;36m  File \u001b[1;32m\"<ipython-input-6-3358d9bb6538>\"\u001b[1;36m, line \u001b[1;32m1\u001b[0m\n\u001b[1;33m    counthead(https://www.dcode.fr/vigenere-cipher)\u001b[0m\n\u001b[1;37m                   ^\u001b[0m\n\u001b[1;31mSyntaxError\u001b[0m\u001b[1;31m:\u001b[0m invalid syntax\n"
     ]
    }
   ],
   "source": [
    "counthead(https://www.dcode.fr/vigenere-cipher)"
   ]
  },
  {
   "cell_type": "code",
   "execution_count": null,
   "metadata": {},
   "outputs": [],
   "source": []
  }
 ],
 "metadata": {
  "kernelspec": {
   "display_name": "Python 3",
   "language": "python",
   "name": "python3"
  },
  "language_info": {
   "codemirror_mode": {
    "name": "ipython",
    "version": 3
   },
   "file_extension": ".py",
   "mimetype": "text/x-python",
   "name": "python",
   "nbconvert_exporter": "python",
   "pygments_lexer": "ipython3",
   "version": "3.8.3"
  }
 },
 "nbformat": 4,
 "nbformat_minor": 4
}
