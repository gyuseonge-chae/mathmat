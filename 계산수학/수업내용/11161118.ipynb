{
 "cells": [
  {
   "cell_type": "code",
   "execution_count": 2,
   "metadata": {},
   "outputs": [
    {
     "data": {
      "text/plain": [
       "384.0144"
      ]
     },
     "execution_count": 2,
     "metadata": {},
     "output_type": "execute_result"
    }
   ],
   "source": [
    "8.8*(175-145)*(1+1.2-0.8)*1.039"
   ]
  },
  {
   "cell_type": "code",
   "execution_count": 4,
   "metadata": {},
   "outputs": [],
   "source": [
    "import pandas as pd\n",
    "def get_stock_data(code_df):\n",
    "    url = 'http://finance.naver.com/item/sise_day.nhn?code={code}'.format(code=code_df)\n",
    "    df = pd.DataFrame()\n",
    "    for page in range(1,21):\n",
    "        pg_url='{url}&page={page}'.format(url=url,page=page)\n",
    "        #pg_url = 'http://finance.naver.com/item/sise_day.nhn?code=215600&page=2'\n",
    "        df=df.append(pd.read_html(pg_url,header=0)[0],ignore_index=True)    \n",
    "    df = df.dropna()    \n",
    "    n = len(df)\n",
    "    data_list = []\n",
    "    for i in range(n):\n",
    "        날짜 = df[i:i+1]['날짜']\n",
    "        종가 = df[i:i+1]['종가']\n",
    "        data_list.append([날짜,종가])\n",
    "    return data_list"
   ]
  },
  {
   "cell_type": "code",
   "execution_count": 5,
   "metadata": {},
   "outputs": [],
   "source": [
    "ss = get_stock_data('005930')"
   ]
  },
  {
   "cell_type": "code",
   "execution_count": 6,
   "metadata": {},
   "outputs": [
    {
     "data": {
      "text/plain": [
       "1    64800.0\n",
       "Name: 종가, dtype: float64"
      ]
     },
     "execution_count": 6,
     "metadata": {},
     "output_type": "execute_result"
    }
   ],
   "source": [
    "ss[0][1]"
   ]
  },
  {
   "cell_type": "code",
   "execution_count": 21,
   "metadata": {},
   "outputs": [],
   "source": [
    "lg = get_stock_data('066570')"
   ]
  },
  {
   "cell_type": "code",
   "execution_count": 22,
   "metadata": {},
   "outputs": [
    {
     "data": {
      "text/plain": [
       "1    88800.0\n",
       "Name: 종가, dtype: float64"
      ]
     },
     "execution_count": 22,
     "metadata": {},
     "output_type": "execute_result"
    }
   ],
   "source": [
    "lg[0][1]"
   ]
  },
  {
   "cell_type": "code",
   "execution_count": 7,
   "metadata": {},
   "outputs": [
    {
     "ename": "SyntaxError",
     "evalue": "unexpected EOF while parsing (<ipython-input-7-71fdf6fed521>, line 2)",
     "output_type": "error",
     "traceback": [
      "\u001b[1;36m  File \u001b[1;32m\"<ipython-input-7-71fdf6fed521>\"\u001b[1;36m, line \u001b[1;32m2\u001b[0m\n\u001b[1;33m    \u001b[0m\n\u001b[1;37m    ^\u001b[0m\n\u001b[1;31mSyntaxError\u001b[0m\u001b[1;31m:\u001b[0m unexpected EOF while parsing\n"
     ]
    }
   ],
   "source": [
    "def correlation (xlist,ylist):\n",
    "    "
   ]
  },
  {
   "cell_type": "code",
   "execution_count": 9,
   "metadata": {},
   "outputs": [],
   "source": [
    "#1부터 10까지 x**3값을 갖는 리스트\n",
    "cubes = []\n",
    "cubes = [x**3 for x in range(1,11)]"
   ]
  },
  {
   "cell_type": "code",
   "execution_count": 10,
   "metadata": {},
   "outputs": [
    {
     "data": {
      "text/plain": [
       "[1, 8, 27, 64, 125, 216, 343, 512, 729, 1000]"
      ]
     },
     "execution_count": 10,
     "metadata": {},
     "output_type": "execute_result"
    }
   ],
   "source": [
    "cubes"
   ]
  },
  {
   "cell_type": "code",
   "execution_count": 11,
   "metadata": {},
   "outputs": [],
   "source": [
    "evenCubes = [x for x in cubes if x%2 == 0]"
   ]
  },
  {
   "cell_type": "code",
   "execution_count": 12,
   "metadata": {},
   "outputs": [
    {
     "data": {
      "text/plain": [
       "[8, 64, 216, 512, 1000]"
      ]
     },
     "execution_count": 12,
     "metadata": {},
     "output_type": "execute_result"
    }
   ],
   "source": [
    "evenCubes"
   ]
  },
  {
   "cell_type": "code",
   "execution_count": 13,
   "metadata": {},
   "outputs": [],
   "source": [
    "import math \n",
    "def std(alist):\n",
    "    n = len(alist)\n",
    "    x_ = sum(alist)/n\n",
    "    return math.sqrt(sum([(xi-x_)**2 for xi in alist])/(n-1))"
   ]
  },
  {
   "cell_type": "code",
   "execution_count": 16,
   "metadata": {},
   "outputs": [],
   "source": [
    "def correlation(xlist,ylist):\n",
    "    n = len(xlist)\n",
    "    x_ = sum(xlist)/n\n",
    "    y_ = sum(ylist)/n\n",
    "    x_std = std(xlist)\n",
    "    y_std = std(ylist)\n",
    "    임시리스트 = [(xlist[i]-x_)*(ylist[i]-y_) for i in range (n)]\n",
    "    corr = sum(임시리스트) / ((n-1) * x_std * y_std)\n",
    "    return corr"
   ]
  },
  {
   "cell_type": "code",
   "execution_count": 20,
   "metadata": {},
   "outputs": [
    {
     "data": {
      "text/plain": [
       "1.0"
      ]
     },
     "execution_count": 20,
     "metadata": {},
     "output_type": "execute_result"
    }
   ],
   "source": [
    "t = [1,3,6,3,6]\n",
    "correlation(t,t)"
   ]
  },
  {
   "cell_type": "code",
   "execution_count": 23,
   "metadata": {},
   "outputs": [],
   "source": [
    "def stockcorrelation(ticker1,ticker2):\n",
    "    data1 = get_stock_data(ticker1)\n",
    "    data2 = get_stock_data(ticker2)\n",
    "    n = len(data1)\n",
    "    t1Close = []\n",
    "    t2Close = []\n",
    "    for i in range(n):\n",
    "        date1 = str(data1[i][0]).split()[1] # 첫 번째 회사 i번 째 날짜 정보\n",
    "        date2 = str(data2[i][0]).split()[1] # 두 번쨰 회사 \"\n",
    "        if date1 == date2 :\n",
    "            value1 = float(data1[i][1]) # 첫 번쨰 회사 i번 째 종가\n",
    "            value2 = float(data2[i][1]) # 두 번째 회사 \"\n",
    "            t1Close.append(value1)\n",
    "            t2Close.append(value2)\n",
    "    return correlation(t1Close,t2Close)"
   ]
  },
  {
   "cell_type": "code",
   "execution_count": 27,
   "metadata": {},
   "outputs": [
    {
     "data": {
      "text/plain": [
       "0.011847715686139708"
      ]
     },
     "execution_count": 27,
     "metadata": {},
     "output_type": "execute_result"
    }
   ],
   "source": [
    "ss = '005930'\n",
    "lg = '066570'\n",
    "cj = '079160'\n",
    "seafood = '011150'\n",
    "stockcorrelation(seafood,cj)"
   ]
  },
  {
   "cell_type": "code",
   "execution_count": null,
   "metadata": {},
   "outputs": [],
   "source": []
  }
 ],
 "metadata": {
  "kernelspec": {
   "display_name": "Python 3",
   "language": "python",
   "name": "python3"
  },
  "language_info": {
   "codemirror_mode": {
    "name": "ipython",
    "version": 3
   },
   "file_extension": ".py",
   "mimetype": "text/x-python",
   "name": "python",
   "nbconvert_exporter": "python",
   "pygments_lexer": "ipython3",
   "version": "3.8.3"
  }
 },
 "nbformat": 4,
 "nbformat_minor": 4
}
