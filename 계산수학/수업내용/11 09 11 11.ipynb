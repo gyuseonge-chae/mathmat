{
 "cells": [
  {
   "cell_type": "code",
   "execution_count": 7,
   "metadata": {},
   "outputs": [
    {
     "data": {
      "text/plain": [
       "'C:\\\\Users\\\\people\\\\계산수학\\\\수업내용'"
      ]
     },
     "execution_count": 7,
     "metadata": {},
     "output_type": "execute_result"
    }
   ],
   "source": [
    "import os\n",
    "os.getcwd()"
   ]
  },
  {
   "cell_type": "code",
   "execution_count": 14,
   "metadata": {},
   "outputs": [],
   "source": [
    "fileref = open('rainfall.txt','r')"
   ]
  },
  {
   "cell_type": "code",
   "execution_count": 15,
   "metadata": {},
   "outputs": [
    {
     "data": {
      "text/plain": [
       "<_io.TextIOWrapper name='rainfall.txt' mode='r' encoding='cp949'>"
      ]
     },
     "execution_count": 15,
     "metadata": {},
     "output_type": "execute_result"
    }
   ],
   "source": [
    "fileref"
   ]
  },
  {
   "cell_type": "code",
   "execution_count": 16,
   "metadata": {},
   "outputs": [
    {
     "name": "stdout",
     "output_type": "stream",
     "text": [
      "Akron 25.81\n",
      "\n",
      "Albia 37.65\n",
      "\n",
      "Algona 30.69\n",
      "\n",
      "Allison 33.64\n",
      "\n",
      "Alton 27.43\n",
      "\n",
      "AmwesW 34.07\n",
      "\n",
      "Anamosa 35.33\n",
      "\n",
      "Ankey 33.38\n",
      "\n",
      "Atlantic 34.77\n",
      "\n",
      "Audubon 33.41\n",
      "\n",
      "Beaconsfield 35.27\n",
      "\n",
      "Bedford 36.35\n",
      "\n",
      "BellePlaine 35.81\n",
      "\n"
     ]
    }
   ],
   "source": [
    "for line in fileref :\n",
    "    print(line)  # ---> 에디터가 자동으로 \\n을 첨가해 개행이 일어남."
   ]
  },
  {
   "cell_type": "code",
   "execution_count": 17,
   "metadata": {},
   "outputs": [],
   "source": [
    "fileref.close()"
   ]
  },
  {
   "cell_type": "code",
   "execution_count": 18,
   "metadata": {},
   "outputs": [],
   "source": [
    "fileref = open('rainfall.txt','r')"
   ]
  },
  {
   "cell_type": "code",
   "execution_count": 19,
   "metadata": {},
   "outputs": [
    {
     "name": "stdout",
     "output_type": "stream",
     "text": [
      "Akron 25.81\n",
      "Albia 37.65\n",
      "Algona 30.69\n",
      "Allison 33.64\n",
      "Alton 27.43\n",
      "AmwesW 34.07\n",
      "Anamosa 35.33\n",
      "Ankey 33.38\n",
      "Atlantic 34.77\n",
      "Audubon 33.41\n",
      "Beaconsfield 35.27\n",
      "Bedford 36.35\n",
      "BellePlaine 35.81\n"
     ]
    }
   ],
   "source": [
    "for line in fileref :\n",
    "    print(line[:-1]) # ---> 개행문자가 슬라이싱에의해 잘렸기때문에 엔터 없음"
   ]
  },
  {
   "cell_type": "code",
   "execution_count": 20,
   "metadata": {},
   "outputs": [],
   "source": [
    "fileref.close()"
   ]
  },
  {
   "cell_type": "code",
   "execution_count": 21,
   "metadata": {},
   "outputs": [],
   "source": [
    "fileref = open('rainfall.txt','r')"
   ]
  },
  {
   "cell_type": "code",
   "execution_count": 22,
   "metadata": {},
   "outputs": [
    {
     "data": {
      "text/plain": [
       "['abcde', '10.5']"
      ]
     },
     "execution_count": 22,
     "metadata": {},
     "output_type": "execute_result"
    }
   ],
   "source": [
    "'abcde 10.5'.split()"
   ]
  },
  {
   "cell_type": "code",
   "execution_count": 28,
   "metadata": {},
   "outputs": [
    {
     "name": "stdout",
     "output_type": "stream",
     "text": [
      "          Akron  65.56\n",
      "\n",
      "          Albia  95.63\n",
      "\n",
      "         Algona  77.95\n",
      "\n",
      "        Allison  85.45\n",
      "\n",
      "          Alton  69.67\n",
      "\n",
      "         AmwesW  86.54\n",
      "\n",
      "        Anamosa  89.74\n",
      "\n",
      "          Ankey  84.79\n",
      "\n",
      "       Atlantic  88.32\n",
      "\n",
      "        Audubon  84.86\n",
      "\n",
      "   Beaconsfield  89.59\n",
      "\n",
      "        Bedford  92.33\n",
      "\n",
      "    BellePlaine  90.96\n",
      "\n"
     ]
    }
   ],
   "source": [
    "rainfile = open('rainfall.txt','r')\n",
    "outfile = open('rainfall_in_cm.txt','w')\n",
    "for l in rainfile : \n",
    "    values = l.split()\n",
    "    inches = float(values[1])\n",
    "    cm = inches * 2.54\n",
    "    print('%15s %6.2f\\n' %(values[0],cm))\n",
    "rainfile.close()\n",
    "outfile.close()"
   ]
  },
  {
   "cell_type": "code",
   "execution_count": 11,
   "metadata": {},
   "outputs": [],
   "source": [
    "fileref = open('rainfall.txt','r')\n",
    "content = fileref.readlines()"
   ]
  },
  {
   "cell_type": "code",
   "execution_count": 12,
   "metadata": {},
   "outputs": [
    {
     "data": {
      "text/plain": [
       "['Akron 25.81\\n',\n",
       " 'Albia 37.65\\n',\n",
       " 'Algona 30.69\\n',\n",
       " 'Allison 33.64\\n',\n",
       " 'Alton 27.43\\n',\n",
       " 'AmwesW 34.07\\n',\n",
       " 'Anamosa 35.33\\n',\n",
       " 'Ankey 33.38\\n',\n",
       " 'Atlantic 34.77\\n',\n",
       " 'Audubon 33.41\\n',\n",
       " 'Beaconsfield 35.27\\n',\n",
       " 'Bedford 36.35\\n',\n",
       " 'BellePlaine 35.81\\n']"
      ]
     },
     "execution_count": 12,
     "metadata": {},
     "output_type": "execute_result"
    }
   ],
   "source": [
    "content"
   ]
  },
  {
   "cell_type": "code",
   "execution_count": 4,
   "metadata": {},
   "outputs": [],
   "source": [
    "content = fileref.read(10)"
   ]
  },
  {
   "cell_type": "code",
   "execution_count": null,
   "metadata": {},
   "outputs": [],
   "source": []
  },
  {
   "cell_type": "code",
   "execution_count": null,
   "metadata": {},
   "outputs": [],
   "source": []
  },
  {
   "cell_type": "code",
   "execution_count": null,
   "metadata": {},
   "outputs": [],
   "source": []
  }
 ],
 "metadata": {
  "kernelspec": {
   "display_name": "Python 3",
   "language": "python",
   "name": "python3"
  },
  "language_info": {
   "codemirror_mode": {
    "name": "ipython",
    "version": 3
   },
   "file_extension": ".py",
   "mimetype": "text/x-python",
   "name": "python",
   "nbconvert_exporter": "python",
   "pygments_lexer": "ipython3",
   "version": "3.8.3"
  }
 },
 "nbformat": 4,
 "nbformat_minor": 4
}
