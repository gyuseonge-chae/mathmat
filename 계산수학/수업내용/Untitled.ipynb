{
 "cells": [
  {
   "cell_type": "code",
   "execution_count": 1,
   "metadata": {},
   "outputs": [],
   "source": [
    "def substitutionEncrypt(plainText, key):\n",
    "    alphabet = 'abcdefghijklmnopqrstuvwxyz '\n",
    "    cipherText = ''\n",
    "    plainText = plainText.lower()\n",
    "    for ch in plainText :\n",
    "        idx = alphabet.find(ch)\n",
    "        cipherText = cipherText + key[idx]\n",
    "    return cipherText"
   ]
  },
  {
   "cell_type": "code",
   "execution_count": 3,
   "metadata": {},
   "outputs": [
    {
     "data": {
      "text/plain": [
       "'svool dliow '"
      ]
     },
     "execution_count": 3,
     "metadata": {},
     "output_type": "execute_result"
    }
   ],
   "source": [
    "substitutionEncrypt('Hello world!', 'zyxwvutsrqponmlkjihgfedcba ')"
   ]
  },
  {
   "cell_type": "code",
   "execution_count": 4,
   "metadata": {},
   "outputs": [],
   "source": [
    "import random"
   ]
  },
  {
   "cell_type": "code",
   "execution_count": 10,
   "metadata": {},
   "outputs": [],
   "source": [
    "def removeChar(string, idx):\n",
    "    앞부분 = string[:idx]\n",
    "    뒷부분 = string[idx+1:]\n",
    "    return 앞부분 + 뒷부분"
   ]
  },
  {
   "cell_type": "code",
   "execution_count": 11,
   "metadata": {},
   "outputs": [],
   "source": [
    "def genKey():\n",
    "    alphabet = 'abcdefghijklmnopqrstuvwxyz '\n",
    "    n = len(alphabet)\n",
    "    key = ''\n",
    "    for i in range(n-1, -1, -1):\n",
    "        idx = random.randint(0,i)\n",
    "        key = key + alphabet[idx]\n",
    "        alphabet = removeChar(alphabet, idx)\n",
    "    return key"
   ]
  },
  {
   "cell_type": "code",
   "execution_count": 13,
   "metadata": {},
   "outputs": [],
   "source": [
    "key = genKey()"
   ]
  },
  {
   "cell_type": "markdown",
   "metadata": {},
   "source": [
    "# 패스워드를 이용하기 "
   ]
  },
  {
   "cell_type": "code",
   "execution_count": 24,
   "metadata": {},
   "outputs": [],
   "source": [
    "def removeDupes(myString): # 입력받은 단어에서 중복 알파벳을 지우기\n",
    "    newStr = ''\n",
    "    for ch in myString :\n",
    "        if ch not in newStr :\n",
    "            newStr = newStr + ch\n",
    "    return newStr"
   ]
  },
  {
   "cell_type": "code",
   "execution_count": 25,
   "metadata": {},
   "outputs": [
    {
     "data": {
      "text/plain": [
       "False"
      ]
     },
     "execution_count": 25,
     "metadata": {},
     "output_type": "execute_result"
    }
   ],
   "source": [
    "'c' not in 'abcde'"
   ]
  },
  {
   "cell_type": "code",
   "execution_count": 26,
   "metadata": {},
   "outputs": [
    {
     "data": {
      "text/plain": [
       "'abcde'"
      ]
     },
     "execution_count": 26,
     "metadata": {},
     "output_type": "execute_result"
    }
   ],
   "source": [
    "removeDupes('aaaaaaabbbbbccddde')"
   ]
  },
  {
   "cell_type": "code",
   "execution_count": 27,
   "metadata": {},
   "outputs": [],
   "source": [
    "def removeMatches(alphabet, word):\n",
    "    newStr = ''\n",
    "    for ch in alphabet :\n",
    "        if ch not in word :\n",
    "            newStr = newStr + ch\n",
    "    return newStr"
   ]
  },
  {
   "cell_type": "code",
   "execution_count": 28,
   "metadata": {},
   "outputs": [
    {
     "data": {
      "text/plain": [
       "'abcde'"
      ]
     },
     "execution_count": 28,
     "metadata": {},
     "output_type": "execute_result"
    }
   ],
   "source": [
    "removeMatches('abcdefg','fg')"
   ]
  },
  {
   "cell_type": "code",
   "execution_count": 39,
   "metadata": {},
   "outputs": [],
   "source": [
    "def genKeyFromPass(password):\n",
    "    alphabet = 'abcdefghijklmnopqrstuvwxyz'\n",
    "    password = removeDupes(password)\n",
    "    LastIdx = alphabet.find(password[-1])\n",
    "    after = removeMatches(alphabet[LastIdx + 1 : ], password)\n",
    "    before = removeMatches(alphabet[ : LastIdx], password)\n",
    "    key = password + after + before\n",
    "    return key"
   ]
  },
  {
   "cell_type": "code",
   "execution_count": 40,
   "metadata": {},
   "outputs": [],
   "source": [
    "key = genKeyFromPass('topsecret')"
   ]
  },
  {
   "cell_type": "code",
   "execution_count": 41,
   "metadata": {},
   "outputs": [
    {
     "data": {
      "text/plain": [
       "26"
      ]
     },
     "execution_count": 41,
     "metadata": {},
     "output_type": "execute_result"
    }
   ],
   "source": [
    "len(key)"
   ]
  },
  {
   "cell_type": "code",
   "execution_count": 42,
   "metadata": {},
   "outputs": [
    {
     "data": {
      "text/plain": [
       "'topsecruvwxyzabdfghijklmnq'"
      ]
     },
     "execution_count": 42,
     "metadata": {},
     "output_type": "execute_result"
    }
   ],
   "source": [
    "key"
   ]
  },
  {
   "cell_type": "code",
   "execution_count": 43,
   "metadata": {},
   "outputs": [
    {
     "data": {
      "text/plain": [
       "'eaglmnopqrstuvwxyzbcdfhijk'"
      ]
     },
     "execution_count": 43,
     "metadata": {},
     "output_type": "execute_result"
    }
   ],
   "source": [
    "genKeyFromPass('eagle')"
   ]
  },
  {
   "cell_type": "code",
   "execution_count": null,
   "metadata": {},
   "outputs": [],
   "source": []
  }
 ],
 "metadata": {
  "kernelspec": {
   "display_name": "Python 3",
   "language": "python",
   "name": "python3"
  },
  "language_info": {
   "codemirror_mode": {
    "name": "ipython",
    "version": 3
   },
   "file_extension": ".py",
   "mimetype": "text/x-python",
   "name": "python",
   "nbconvert_exporter": "python",
   "pygments_lexer": "ipython3",
   "version": "3.8.3"
  }
 },
 "nbformat": 4,
 "nbformat_minor": 4
}
