{
 "cells": [
  {
   "cell_type": "markdown",
   "metadata": {},
   "source": [
    "# 리스트에서 max method없이 max함수 만들기"
   ]
  },
  {
   "cell_type": "code",
   "execution_count": 1,
   "metadata": {},
   "outputs": [],
   "source": [
    "def getMax(alist) : #인덱싱으로 방문\n",
    "    n = len(alist)\n",
    "    maxSoFar = alist[0]\n",
    "    for i in range(1,n) :\n",
    "        if alist[i] >= alist[0] :\n",
    "            maxSoFar = alist [i]\n",
    "    return maxSoFar"
   ]
  },
  {
   "cell_type": "code",
   "execution_count": 2,
   "metadata": {},
   "outputs": [
    {
     "data": {
      "text/plain": [
       "4"
      ]
     },
     "execution_count": 2,
     "metadata": {},
     "output_type": "execute_result"
    }
   ],
   "source": [
    "getMax([1,2,3,4])"
   ]
  },
  {
   "cell_type": "code",
   "execution_count": 3,
   "metadata": {},
   "outputs": [],
   "source": [
    "def getMax_2(alist) : #직접 방문\n",
    "    maxSoFar = alist[0]\n",
    "    for item in alist[1:] :\n",
    "        if item >= maxSoFar :\n",
    "            maxSoFar = item\n",
    "    return maxSoFar"
   ]
  },
  {
   "cell_type": "code",
   "execution_count": 4,
   "metadata": {},
   "outputs": [
    {
     "data": {
      "text/plain": [
       "4"
      ]
     },
     "execution_count": 4,
     "metadata": {},
     "output_type": "execute_result"
    }
   ],
   "source": [
    "getMax_2([1,2,3,4])"
   ]
  },
  {
   "cell_type": "markdown",
   "metadata": {},
   "source": [
    "# 대표값 함수 코드 짜기"
   ]
  },
  {
   "cell_type": "code",
   "execution_count": 5,
   "metadata": {},
   "outputs": [],
   "source": [
    "def mean(alist) :\n",
    "    mean = sum(alist) / len(alist)\n",
    "    return mean"
   ]
  },
  {
   "cell_type": "code",
   "execution_count": 6,
   "metadata": {},
   "outputs": [
    {
     "data": {
      "text/plain": [
       "2.5"
      ]
     },
     "execution_count": 6,
     "metadata": {},
     "output_type": "execute_result"
    }
   ],
   "source": [
    "mean([1,2,3,4])"
   ]
  },
  {
   "cell_type": "code",
   "execution_count": 7,
   "metadata": {},
   "outputs": [],
   "source": [
    "def mean_2(alist) :\n",
    "    sum = 0\n",
    "    for item in alist :\n",
    "        sum = sum + item\n",
    "    mean = sum / len(alist)\n",
    "    return mean"
   ]
  },
  {
   "cell_type": "code",
   "execution_count": 8,
   "metadata": {},
   "outputs": [
    {
     "data": {
      "text/plain": [
       "2.5"
      ]
     },
     "execution_count": 8,
     "metadata": {},
     "output_type": "execute_result"
    }
   ],
   "source": [
    "mean_2([1,2,3,4])"
   ]
  },
  {
   "cell_type": "code",
   "execution_count": 9,
   "metadata": {},
   "outputs": [],
   "source": [
    "def median(alist):\n",
    "    n = len(alist)\n",
    "    copylist = alist[:]\n",
    "    copylist.sort()\n",
    "    if n % 2 == 1 :\n",
    "        median = copylist[n // 2]\n",
    "    else :\n",
    "        median = (copylist[n // 2] + copylist[n // 2 - 1])/2.0\n",
    "    return median"
   ]
  },
  {
   "cell_type": "code",
   "execution_count": 10,
   "metadata": {},
   "outputs": [
    {
     "data": {
      "text/plain": [
       "[4, 2, 5, 6, 9, 1]"
      ]
     },
     "execution_count": 10,
     "metadata": {},
     "output_type": "execute_result"
    }
   ],
   "source": [
    "alist = [4,2,5,6,9,1]\n",
    "alist = alist[:]\n",
    "alist"
   ]
  },
  {
   "cell_type": "code",
   "execution_count": 11,
   "metadata": {},
   "outputs": [
    {
     "data": {
      "text/plain": [
       "2.5"
      ]
     },
     "execution_count": 11,
     "metadata": {},
     "output_type": "execute_result"
    }
   ],
   "source": [
    "median([1,3,2,4])"
   ]
  },
  {
   "cell_type": "code",
   "execution_count": 12,
   "metadata": {},
   "outputs": [],
   "source": [
    "def mode(alist):\n",
    "    countdict = {}\n",
    "    for item in alist :\n",
    "        #if item in countdict :\n",
    "           # countdict[item] = 1\n",
    "        #else : \n",
    "           # countdict[item] = countdict[item] + 1  \n",
    "        countdict[item] = countdict.get(item, 0) + 1\n",
    "    return countdict"
   ]
  },
  {
   "cell_type": "code",
   "execution_count": 13,
   "metadata": {},
   "outputs": [],
   "source": [
    "import turtle\n",
    "def frequencyChart(alist):\n",
    "    countdict = {}\n",
    "    for item in alist :\n",
    "        countdict[item] = countdict.get(item, 0) + 1\n",
    "    \n",
    "    n_item = len(countdict)\n",
    "    maxcount = max(countdict.values())\n",
    "    \n",
    "    t = turtle.Turtle()\n",
    "    wn = turtle.Screen()\n",
    "    wn.setworldcoordinates(-1,-1,n_item+1,maxcount+1)\n",
    "    \n",
    "    t.up()\n",
    "    t.goto(0,0)\n",
    "    t.down\n",
    "    t.goto(n_item,0)\n",
    "    t.up()\n",
    "    t.goto(-1,0)\n",
    "    t.write('O',font=('Helvetica',16,'bold'))\n",
    "    t.goto(-1,maxcount)\n",
    "    t.write(str(maxcount),font=('Helvetica',16,'bold'))\n",
    "    \n",
    "    itemlist = list(countdict.keys())\n",
    "    countlist = list(countdict.values())\n",
    "    \n",
    "    for idx in range(n_item):\n",
    "        t.goto(idx, -1)\n",
    "        t.write(str(itemlist[idx]), font=('Helvetica',16,'bold'))\n",
    "        t.goto(idx,0)\n",
    "        t.down()\n",
    "        t.goto(idx, countlist[idx])\n",
    "        t.up()\n",
    "    wn.exitonclick()"
   ]
  },
  {
   "cell_type": "code",
   "execution_count": 14,
   "metadata": {},
   "outputs": [],
   "source": [
    "frequencyChart([1,5,2,1,1,5,5,5,6,3,2,2,3,1,5])"
   ]
  },
  {
   "cell_type": "code",
   "execution_count": null,
   "metadata": {},
   "outputs": [],
   "source": []
  }
 ],
 "metadata": {
  "kernelspec": {
   "display_name": "Python 3",
   "language": "python",
   "name": "python3"
  },
  "language_info": {
   "codemirror_mode": {
    "name": "ipython",
    "version": 3
   },
   "file_extension": ".py",
   "mimetype": "text/x-python",
   "name": "python",
   "nbconvert_exporter": "python",
   "pygments_lexer": "ipython3",
   "version": "3.8.3"
  }
 },
 "nbformat": 4,
 "nbformat_minor": 4
}
